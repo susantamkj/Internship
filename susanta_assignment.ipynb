{
 "cells": [
  {
   "cell_type": "code",
   "execution_count": 106,
   "id": "109334fd",
   "metadata": {},
   "outputs": [],
   "source": [
    "import pandas as pd\n",
    "import re"
   ]
  },
  {
   "cell_type": "markdown",
   "id": "6d1dff1c",
   "metadata": {},
   "source": [
    "Q.1"
   ]
  },
  {
   "cell_type": "code",
   "execution_count": 107,
   "id": "4c8dc975",
   "metadata": {},
   "outputs": [
    {
     "name": "stdout",
     "output_type": "stream",
     "text": [
      "'Python:Exercises::PHP:exercises:\n"
     ]
    }
   ],
   "source": [
    "value = \"'Python Exercises, PHP exercises.\"\n",
    "print(re.sub(\"[ ,.]\", \":\", value))\n"
   ]
  },
  {
   "cell_type": "markdown",
   "id": "df38114f",
   "metadata": {},
   "source": [
    "Q2"
   ]
  },
  {
   "cell_type": "code",
   "execution_count": 6,
   "id": "b779b84d",
   "metadata": {},
   "outputs": [
    {
     "name": "stdout",
     "output_type": "stream",
     "text": [
      "['ercises', 'exercises']\n"
     ]
    }
   ],
   "source": [
    "text = \"'Python Exercises, PHP exercises.\"\n",
    "list = re.findall(\"[ae]\\w+\", text)\n",
    "print(list)\n"
   ]
  },
  {
   "cell_type": "markdown",
   "id": "1c692e3d",
   "metadata": {},
   "source": [
    "Q3"
   ]
  },
  {
   "cell_type": "code",
   "execution_count": 7,
   "id": "bab1d372",
   "metadata": {},
   "outputs": [
    {
     "name": "stdout",
     "output_type": "stream",
     "text": [
      "['Python', 'Exercises', 'exercises']\n"
     ]
    }
   ],
   "source": [
    "text = \"Python Exercises, PHP exercises.\"\n",
    "print(re.findall(r\"\\b\\w{4,}\\b\", text))\n"
   ]
  },
  {
   "cell_type": "markdown",
   "id": "fe0aeb7b",
   "metadata": {},
   "source": [
    "Q4"
   ]
  },
  {
   "cell_type": "code",
   "execution_count": 8,
   "id": "89b1acdf",
   "metadata": {},
   "outputs": [
    {
     "name": "stdout",
     "output_type": "stream",
     "text": [
      "['PHP']\n"
     ]
    }
   ],
   "source": [
    "text = \"Python Exercises, PHP exercises.\"\n",
    "print(re.findall(r\"\\b\\w{3,5}\\b\", text))\n"
   ]
  },
  {
   "cell_type": "markdown",
   "id": "13e1b430",
   "metadata": {},
   "source": [
    "Q5"
   ]
  },
  {
   "cell_type": "code",
   "execution_count": 26,
   "id": "5551e4d1",
   "metadata": {},
   "outputs": [
    {
     "data": {
      "text/plain": [
       "['example .com',\n",
       " 'hr@fliprobo .com',\n",
       " 'github .com',\n",
       " 'Hello Data Science World',\n",
       " 'Data Scientist']"
      ]
     },
     "execution_count": 26,
     "metadata": {},
     "output_type": "execute_result"
    }
   ],
   "source": [
    "emailData: [\"example (.com)\", \"hr@fliprobo (.com)\", \"github (.com)\", \"Hello (Data Science World)\", \"Data (Scientist)\"]\n",
    "filterData = []\n",
    "for val in emailData:\n",
    "    data = re.sub(r'[()]','',val)\n",
    "    filterData.append(data)\n",
    "filterData"
   ]
  },
  {
   "cell_type": "markdown",
   "id": "3c1fcb4b",
   "metadata": {},
   "source": [
    "Q6"
   ]
  },
  {
   "cell_type": "code",
   "execution_count": 27,
   "id": "2a629912",
   "metadata": {},
   "outputs": [
    {
     "data": {
      "text/plain": [
       "['example', 'hr@fliprobo', 'github', 'Hello', 'Data']"
      ]
     },
     "execution_count": 27,
     "metadata": {},
     "output_type": "execute_result"
    }
   ],
   "source": [
    "sampleText = [\"example (.com)\", \"hr@fliprobo (.com)\", \"github (.com)\", \"Hello (Data Science World)\", \"Data (Scientist)\"]\n",
    "filterData = []\n",
    "for val in sampleText:\n",
    "    data = re.sub(r\" ?\\([^)]+\\)\", \"\", val)\n",
    "    filterData.append(data)\n",
    "filterData\n",
    "    "
   ]
  },
  {
   "cell_type": "markdown",
   "id": "b853d604",
   "metadata": {},
   "source": [
    "Q7"
   ]
  },
  {
   "cell_type": "code",
   "execution_count": 29,
   "id": "45e9ece2",
   "metadata": {},
   "outputs": [
    {
     "name": "stdout",
     "output_type": "stream",
     "text": [
      "['Python', 'Tutorial', 'And', 'Exercises']\n"
     ]
    }
   ],
   "source": [
    "sampleText = \"PythonTutorialAndExercises\"\n",
    "print(re.findall('[A-Z][^A-Z]*', sampleText))"
   ]
  },
  {
   "cell_type": "markdown",
   "id": "67adf024",
   "metadata": {},
   "source": [
    "Q8"
   ]
  },
  {
   "cell_type": "code",
   "execution_count": 32,
   "id": "262e20d0",
   "metadata": {},
   "outputs": [
    {
     "name": "stdout",
     "output_type": "stream",
     "text": [
      "Python Tutorial And Exercises\n",
      "Regular Expression1 Is An2 Important Topic3 In Python\n"
     ]
    }
   ],
   "source": [
    "def spaces_capital_latter(str1):\n",
    "  return re.sub(r\"(\\w)([A-Z])\", r\"\\1 \\2\", str1)\n",
    "print(spaces_capital_latter(\"PythonTutorialAndExercises\"))\n",
    "print(spaces_capital_latter(\"RegularExpression1IsAn2ImportantTopic3InPython\"))"
   ]
  },
  {
   "cell_type": "markdown",
   "id": "cce7dcb5",
   "metadata": {},
   "source": [
    "Q9"
   ]
  },
  {
   "cell_type": "code",
   "execution_count": 33,
   "id": "a40f127f",
   "metadata": {},
   "outputs": [
    {
     "name": "stdout",
     "output_type": "stream",
     "text": [
      "Python Tutorial And Exercises\n",
      "Regular Expression1 Is An2 Important Topic3 In Python\n"
     ]
    }
   ],
   "source": [
    "def spaces_capital_latter(str1):\n",
    "  return re.sub(r\"(\\w)([A-Z])\", r\"\\1 \\2\",str1)\n",
    "print(spaces_capital_latter(\"PythonTutorialAndExercises\"))\n",
    "print(spaces_capital_latter(\"RegularExpression1IsAn2ImportantTopic3InPython\"))"
   ]
  },
  {
   "cell_type": "markdown",
   "id": "21f998e1",
   "metadata": {},
   "source": [
    "Q10"
   ]
  },
  {
   "cell_type": "code",
   "execution_count": 35,
   "id": "d3605ab8",
   "metadata": {},
   "outputs": [
    {
     "data": {
      "text/plain": [
       "['xyz@domain.com', 'abc@sdomain.domain', 'hr@fliprobo.com']"
      ]
     },
     "execution_count": 35,
     "metadata": {},
     "output_type": "execute_result"
    }
   ],
   "source": [
    "sampleText = \"Hello my name is Data Science and my email address is xyz@domain.com and alternate email address is xyz.abc@sdomain.domain.com. Please contact us at hr@fliprobo.com for further information.\"\n",
    "emails = re.findall(\"[0-9a-zA-z]+@[0-9a-zA-z]+\\.[0-9a-zA-z]+\",sampleText)\n",
    "emails\n",
    "                    "
   ]
  },
  {
   "cell_type": "markdown",
   "id": "6d0f7eec",
   "metadata": {},
   "source": [
    "Q11"
   ]
  },
  {
   "cell_type": "code",
   "execution_count": 44,
   "id": "5720dc35",
   "metadata": {},
   "outputs": [
    {
     "name": "stdout",
     "output_type": "stream",
     "text": [
      "Not matched!\n",
      "Found a match!\n"
     ]
    }
   ],
   "source": [
    "def search_text(text):\n",
    "        patterns = '^[a-zA-Z0-9_]*$'\n",
    "        if re.search(patterns,  text):\n",
    "                return 'Found a match!'\n",
    "        else:\n",
    "                return('Not matched!')\n",
    "            \n",
    "print(search_text(\"Write_a_python_program_1_to extract_\"))\n",
    "print(search_text(\"Python_Exercises_1\"))"
   ]
  },
  {
   "cell_type": "markdown",
   "id": "2f98341e",
   "metadata": {},
   "source": [
    "Q12"
   ]
  },
  {
   "cell_type": "code",
   "execution_count": 54,
   "id": "c09df24f",
   "metadata": {},
   "outputs": [],
   "source": [
    "sampleText = \"4Python Exercises, PHP exercises.\"\n",
    "text = re.compile(r\"^\\\\d\")\n",
    "r = text.match(sampleText)\n"
   ]
  },
  {
   "cell_type": "markdown",
   "id": "b096f9dc",
   "metadata": {},
   "source": [
    "Q13"
   ]
  },
  {
   "cell_type": "code",
   "execution_count": 56,
   "id": "c9414613",
   "metadata": {},
   "outputs": [
    {
     "name": "stdout",
     "output_type": "stream",
     "text": [
      "324..54.396\n"
     ]
    }
   ],
   "source": [
    "ip_address = \"324.00.054.396\"\n",
    "regx = re.sub('\\.[0]*', '.', ip_address)\n",
    "print(regx)\n"
   ]
  },
  {
   "cell_type": "markdown",
   "id": "010af34a",
   "metadata": {},
   "source": [
    "Q14"
   ]
  },
  {
   "cell_type": "code",
   "execution_count": 69,
   "id": "2938bfc1",
   "metadata": {},
   "outputs": [],
   "source": [
    "str =\"India gained its freedom on 15 August 1947 which was a Friday.\"\n",
    "str_pattern = [\"\\\\d{1,2}-\\\\d{4}-\\\\d{1,2}\"]\n",
    "for pattern in str_pattern:\n",
    "    for match in re.finditer(pattern, str):\n",
    "        print(match)\n"
   ]
  },
  {
   "cell_type": "markdown",
   "id": "08a7d308",
   "metadata": {},
   "source": [
    "Q15"
   ]
  },
  {
   "cell_type": "code",
   "execution_count": 76,
   "id": "23444230",
   "metadata": {},
   "outputs": [
    {
     "name": "stdout",
     "output_type": "stream",
     "text": [
      "[<re.Match object; span=(16, 19), match='fox'>, <re.Match object; span=(40, 43), match='dog'>, None]\n",
      "string for \"fox\" in \"The quick brown fox jumps over the lazy dog.\" ->\n",
      "Matched!\n",
      "string for \"dog\" in \"The quick brown fox jumps over the lazy dog.\" ->\n",
      "Matched!\n",
      "string for \"horse\" in \"The quick brown fox jumps over the lazy dog.\" ->\n",
      "Not Matched!\n"
     ]
    }
   ],
   "source": [
    "main_str = 'The quick brown fox jumps over the lazy dog.'\n",
    "search_str = [ 'fox', 'dog', 'horse' ]\n",
    "final_arr = []\n",
    "for s in search_str:\n",
    "    a = re.search(s, main_str)\n",
    "    final_arr.append(a)\n",
    "print(final_arr)\n",
    "\n",
    "for s in search_str:\n",
    "    print('string for \"%s\" in \"%s\" ->' % (s, main_str),)\n",
    "    if re.search(s,  main_str):\n",
    "        print('Matched!')\n",
    "    else:\n",
    "        print('Not Matched!')\n"
   ]
  },
  {
   "cell_type": "markdown",
   "id": "f08bb2a3",
   "metadata": {},
   "source": [
    "Q16"
   ]
  },
  {
   "cell_type": "code",
   "execution_count": 77,
   "id": "728f0b95",
   "metadata": {},
   "outputs": [
    {
     "name": "stdout",
     "output_type": "stream",
     "text": [
      "Found \"fox\" in \"The quick brown fox jumps over the lazy dog.\" from 16 to 19 \n"
     ]
    }
   ],
   "source": [
    "search_str = 'fox'\n",
    "aStr = 'The quick brown fox jumps over the lazy dog.'\n",
    "match = re.search(search_str, aStr)\n",
    "s = match.start()\n",
    "e = match.end()\n",
    "print('Found \"%s\" in \"%s\" from %d to %d ' % \\\n",
    "    (match.re.pattern, match.string, s, e))\n"
   ]
  },
  {
   "cell_type": "markdown",
   "id": "c677834a",
   "metadata": {},
   "source": [
    "Q17"
   ]
  },
  {
   "cell_type": "code",
   "execution_count": 79,
   "id": "1d99e37d",
   "metadata": {},
   "outputs": [
    {
     "name": "stdout",
     "output_type": "stream",
     "text": [
      "Found \"exercises\"\n",
      "Found \"exercises\"\n",
      "Found \"exercises\"\n"
     ]
    }
   ],
   "source": [
    "final_str = 'Python exercises, PHP exercises, C# exercises'\n",
    "search_str = 'exercises'\n",
    "for match in re.findall(search_str, final_str):\n",
    "    print('Found \"%s\"' % match)\n"
   ]
  },
  {
   "cell_type": "markdown",
   "id": "4e48d926",
   "metadata": {},
   "source": [
    "Q18"
   ]
  },
  {
   "cell_type": "code",
   "execution_count": 82,
   "id": "06bb5e51",
   "metadata": {},
   "outputs": [
    {
     "name": "stdout",
     "output_type": "stream",
     "text": [
      "Found \"exercises\" at 7:16\n",
      "Found \"exercises\" at 22:31\n",
      "Found \"exercises\" at 36:45\n"
     ]
    }
   ],
   "source": [
    "final_str = 'Python exercises, PHP exercises, C# exercises'\n",
    "search_str = 'exercises'\n",
    "for match in re.finditer(search_str, final_str):\n",
    "    s = match.start()\n",
    "    e = match.end()\n",
    "    print('Found \"%s\" at %d:%d' % (final_str[s:e], s, e))\n"
   ]
  },
  {
   "cell_type": "markdown",
   "id": "362df6a9",
   "metadata": {},
   "source": [
    "Q19"
   ]
  },
  {
   "cell_type": "code",
   "execution_count": 83,
   "id": "928a4e4c",
   "metadata": {},
   "outputs": [
    {
     "name": "stdout",
     "output_type": "stream",
     "text": [
      "Original date in YYY-MM-DD Format:  2026-01-02\n",
      "New date in DD-MM-YYYY Format:  02-01-2026\n"
     ]
    }
   ],
   "source": [
    "def change_date_format(dt):\n",
    "        return re.sub(r'(\\d{4})-(\\d{1,2})-(\\d{1,2})', '\\\\3-\\\\2-\\\\1', dt)\n",
    "dt1 = \"2026-01-02\"\n",
    "print(\"Original date in YYY-MM-DD Format: \",dt1)\n",
    "print(\"New date in DD-MM-YYYY Format: \",change_date_format(dt1))\n"
   ]
  },
  {
   "cell_type": "markdown",
   "id": "b3272883",
   "metadata": {},
   "source": [
    "Q20"
   ]
  },
  {
   "cell_type": "code",
   "execution_count": 85,
   "id": "90ad4df9",
   "metadata": {},
   "outputs": [
    {
     "name": "stdout",
     "output_type": "stream",
     "text": [
      "it matches!\n"
     ]
    }
   ],
   "source": [
    "r = re.compile(\"[0-9]*[.,][0-9]*\")\n",
    "if r.match('0.1.'):\n",
    "    print('it matches!')"
   ]
  },
  {
   "cell_type": "markdown",
   "id": "e3b0d38b",
   "metadata": {},
   "source": [
    "Q21"
   ]
  },
  {
   "cell_type": "code",
   "execution_count": 86,
   "id": "56df7077",
   "metadata": {},
   "outputs": [
    {
     "name": "stdout",
     "output_type": "stream",
     "text": [
      "50\n",
      "Index position: 62\n"
     ]
    }
   ],
   "source": [
    "text = \"The following example creates an ArrayList with a capacity of 50 elements. Four elements are then added to the ArrayList and the ArrayList is trimmed accordingly.\"\n",
    "\n",
    "for m in re.finditer(\"\\d+\", text):\n",
    "    print(m.group(0))\n",
    "    print(\"Index position:\", m.start())\n"
   ]
  },
  {
   "cell_type": "markdown",
   "id": "a5dadd41",
   "metadata": {},
   "source": [
    "Q22"
   ]
  },
  {
   "cell_type": "code",
   "execution_count": 90,
   "id": "2c25bf53",
   "metadata": {},
   "outputs": [
    {
     "name": "stdout",
     "output_type": "stream",
     "text": [
      "950\n"
     ]
    }
   ],
   "source": [
    "def getMaxNumber(inputValue):\n",
    "     numbers = re.findall('\\d+',inputValue)\n",
    "     numbers = map(int,numbers)\n",
    "     print (max(numbers))\n",
    " \n",
    "if __name__ == \"__main__\":\n",
    "    simpleString = 'My marks in each semester are: 947, 896, 926, 524, 734, 950, 642'\n",
    "    extractMax(simpleString)\n"
   ]
  },
  {
   "cell_type": "markdown",
   "id": "f7e40e1e",
   "metadata": {},
   "source": [
    "Q23"
   ]
  },
  {
   "cell_type": "code",
   "execution_count": 93,
   "id": "57c6e2a0",
   "metadata": {},
   "outputs": [
    {
     "name": "stdout",
     "output_type": "stream",
     "text": [
      "Regular Expression Is An Important Topic In Python\n"
     ]
    }
   ],
   "source": [
    "def capital_words_spaces(str1):\n",
    "  return re.sub(r\"(\\w)([A-Z])\", r\"\\1 \\2\", str1)\n",
    "\n",
    "print(capital_words_spaces(\"RegularExpressionIsAnImportantTopicInPython\"))\n"
   ]
  },
  {
   "cell_type": "markdown",
   "id": "30852d6a",
   "metadata": {},
   "source": [
    "Q24"
   ]
  },
  {
   "cell_type": "code",
   "execution_count": 100,
   "id": "f4565a37",
   "metadata": {},
   "outputs": [
    {
     "name": "stdout",
     "output_type": "stream",
     "text": [
      "Yes\n"
     ]
    }
   ],
   "source": [
    "def search(strVal): \n",
    "    exp_str = '[A-Z]+[a-z]+$'\n",
    "    if re.search(exp_str, strVal): \n",
    "        print('Yes')\n",
    "    else: \n",
    "         print('No')\n",
    "            \n",
    "search(\"abcDef\")"
   ]
  },
  {
   "cell_type": "markdown",
   "id": "5e350f6b",
   "metadata": {},
   "source": [
    "Q25"
   ]
  },
  {
   "cell_type": "code",
   "execution_count": 101,
   "id": "a785b65a",
   "metadata": {},
   "outputs": [
    {
     "name": "stdout",
     "output_type": "stream",
     "text": [
      "Hello world\n"
     ]
    }
   ],
   "source": [
    "simpleString = \"Hello hello world world\"\n",
    "\n",
    "def removeDuplicates(value):\n",
    "    regex = r'\\b(\\w+)(?:\\W+\\1\\b)+' \n",
    "    return re.sub(regex, r'\\1', value, flags=re.IGNORECASE)\n",
    "print(removeDuplicates(simpleString))"
   ]
  },
  {
   "cell_type": "markdown",
   "id": "71f41ed9",
   "metadata": {},
   "source": [
    "Q26"
   ]
  },
  {
   "cell_type": "code",
   "execution_count": 105,
   "id": "47bfdcbb",
   "metadata": {},
   "outputs": [
    {
     "name": "stdout",
     "output_type": "stream",
     "text": [
      "The string doesnot end with alphanumeric character\n",
      "None\n",
      "The string ends with alphanumeric character\n",
      "None\n"
     ]
    }
   ],
   "source": [
    "regex_expression = '[a-zA-z0-9]$'\n",
    "\n",
    "def get_alphanumeric_char(my_string):\n",
    "\n",
    "   if(re.search(regex_expression, my_string)):\n",
    "      print(\"The string ends with alphanumeric character\")\n",
    "\n",
    "   else:\n",
    "      print(\"The string doesnot end with alphanumeric character\")\n",
    "        \n",
    "print(get_alphanumeric_char(\"Python@\"))\n",
    "print(get_alphanumeric_char(\"Python1245\"))"
   ]
  },
  {
   "cell_type": "markdown",
   "id": "7a53eec3",
   "metadata": {},
   "source": [
    "Q27"
   ]
  },
  {
   "cell_type": "code",
   "execution_count": null,
   "id": "4fa6846f",
   "metadata": {},
   "outputs": [],
   "source": []
  }
 ],
 "metadata": {
  "kernelspec": {
   "display_name": "Python 3 (ipykernel)",
   "language": "python",
   "name": "python3"
  },
  "language_info": {
   "codemirror_mode": {
    "name": "ipython",
    "version": 3
   },
   "file_extension": ".py",
   "mimetype": "text/x-python",
   "name": "python",
   "nbconvert_exporter": "python",
   "pygments_lexer": "ipython3",
   "version": "3.10.9"
  }
 },
 "nbformat": 4,
 "nbformat_minor": 5
}
